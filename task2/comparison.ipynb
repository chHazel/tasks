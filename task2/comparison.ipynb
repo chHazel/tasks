{
 "cells": [
  {
   "cell_type": "code",
   "execution_count": 210,
   "metadata": {},
   "outputs": [],
   "source": [
    "import pandas as pd"
   ]
  },
  {
   "cell_type": "code",
   "execution_count": 211,
   "metadata": {},
   "outputs": [],
   "source": [
    "def scene1(data_set, fund):\n",
    "    for row_index, row in data_set.iterrows():\n",
    "        open_price = row[\"Open\"]\n",
    "        close_price = row[\"Close\"] \n",
    "\n",
    "        fund += (close_price - open_price) * (fund // open_price)\n",
    "    return fund"
   ]
  },
  {
   "cell_type": "code",
   "execution_count": 212,
   "metadata": {},
   "outputs": [],
   "source": [
    "def scene2(data_set, fund):\n",
    "    for row_index, row in data_set.iterrows():\n",
    "\n",
    "        open_price = row[\"Open\"]\n",
    "        close_price = row[\"Close\"]\n",
    "\n",
    "        if row_index == data_set.index.min():\n",
    "            quantity = fund // close_price\n",
    "            fund = fund % close_price\n",
    "        elif row_index == data_set.index.max(): \n",
    "            fund += open_price * quantity\n",
    "        else:\n",
    "            fund += quantity * open_price\n",
    "            quantity = fund // close_price\n",
    "            fund = fund % close_price\n",
    "    return fund"
   ]
  },
  {
   "cell_type": "code",
   "execution_count": 213,
   "metadata": {},
   "outputs": [],
   "source": [
    "def scene3(data_set, fund):\n",
    "    for row_index, row in data_set.iterrows():\n",
    "        open_price = row[\"Open\"]\n",
    "        close_price = row[\"Close\"]\n",
    "\n",
    "        if row_index == data_set.index.min():\n",
    "            quantity = fund // open_price\n",
    "            fund = fund % open_price\n",
    "\n",
    "        if row_index == data_set.index.max():\n",
    "            fund += quantity * close_price\n",
    "\n",
    "    return fund"
   ]
  },
  {
   "cell_type": "code",
   "execution_count": 214,
   "metadata": {},
   "outputs": [],
   "source": [
    "def calculateProfit(fund, value):\n",
    "    return_rate = (value - fund) / fund * 100\n",
    "    profit = value - fund\n",
    "    print(\"final value = %.2f\" %value)\n",
    "    print(\"profit = %.2f\" %profit)\n",
    "    print(\"return rate = %.2f%%\\n\" %return_rate)\n",
    "    return return_rate"
   ]
  },
  {
   "cell_type": "code",
   "execution_count": 215,
   "metadata": {},
   "outputs": [
    {
     "name": "stdout",
     "output_type": "stream",
     "text": [
      "final value = 115588.78\n",
      "profit = 15588.78\n",
      "return rate = 15.59%\n",
      "\n",
      "final value = 112690.96\n",
      "profit = 12690.96\n",
      "return rate = 12.69%\n",
      "\n",
      "final value = 130293.19\n",
      "profit = 30293.19\n",
      "return rate = 30.29%\n",
      "\n"
     ]
    }
   ],
   "source": [
    "SPY_data = pd.read_csv(\"SPY.csv\")\n",
    "SPY_data_set = SPY_data.iloc[:,1:5:3]\n",
    "\n",
    "fund = 100000      \n",
    " \n",
    "scene1_SPY_value = scene1(SPY_data_set, fund)\n",
    "scene1_SPY_return_rate = calculateProfit(fund, scene1_SPY_value)\n",
    "\n",
    "scene2_SPY_value = scene2(SPY_data_set, fund)\n",
    "scene2_SPY_return_rate = calculateProfit(fund, scene2_SPY_value)\n",
    "\n",
    "scene3_SPY_value = scene3(SPY_data_set, fund)\n",
    "scene3_SPY_return_rate = calculateProfit(fund, scene3_SPY_value)"
   ]
  },
  {
   "cell_type": "code",
   "execution_count": 216,
   "metadata": {},
   "outputs": [
    {
     "name": "stdout",
     "output_type": "stream",
     "text": [
      "final value = 119083.08\n",
      "profit = 19083.08\n",
      "return rate = 19.08%\n",
      "\n",
      "final value = 119402.83\n",
      "profit = 19402.83\n",
      "return rate = 19.40%\n",
      "\n",
      "final value = 142150.40\n",
      "profit = 42150.40\n",
      "return rate = 42.15%\n",
      "\n"
     ]
    }
   ],
   "source": [
    "QQQ_data = pd.read_csv(\"QQQ.csv\")\n",
    "QQQ_data_set = QQQ_data.iloc[:,1:5:3]\n",
    "\n",
    "fund = 100000       \n",
    "scene1_QQQ_value = scene1(QQQ_data_set, fund)\n",
    "scene1_QQQ_return_rate = calculateProfit(fund, scene1_QQQ_value)\n",
    "\n",
    "scene2_QQQ_value = scene2(QQQ_data_set, fund)\n",
    "scene2_QQQ_return_rate = calculateProfit(fund, scene2_QQQ_value)\n",
    "\n",
    "scene3_QQQ_value = scene3(QQQ_data_set, fund)\n",
    "scene3_QQQ_return_rate = calculateProfit(fund, scene3_QQQ_value)"
   ]
  },
  {
   "cell_type": "code",
   "execution_count": 217,
   "metadata": {},
   "outputs": [
    {
     "name": "stdout",
     "output_type": "stream",
     "text": [
      "scene 1 return rate of SPY is: 15.59%, return rate of QQQ is: 19.08%\n",
      "scene 2 return rate of SPY is: 12.69%, return rate of QQQ is: 19.40%\n",
      "scene 3 return rate of SPY is: 30.29%, return rate of QQQ is: 42.15%\n"
     ]
    }
   ],
   "source": [
    "print(\"scene 1 return rate of SPY is: %.2f%%, return rate of QQQ is: %.2f%%\" %(scene1_SPY_return_rate, scene1_QQQ_return_rate))\n",
    "print(\"scene 2 return rate of SPY is: %.2f%%, return rate of QQQ is: %.2f%%\" %(scene2_SPY_return_rate, scene2_QQQ_return_rate))\n",
    "print(\"scene 3 return rate of SPY is: %.2f%%, return rate of QQQ is: %.2f%%\" %(scene3_SPY_return_rate, scene3_QQQ_return_rate))\n"
   ]
  },
  {
   "cell_type": "code",
   "execution_count": 220,
   "metadata": {},
   "outputs": [
    {
     "name": "stdout",
     "output_type": "stream",
     "text": [
      "{'2023': {'scene2': 9.17, 'scene3': 19.3}, '2024': {'scene2': 3.7, 'scene3': 9.8}}\n",
      "{'2023': {'scene2': 13.86, 'scene3': 31.33}, '2024': {'scene2': 5.55, 'scene3': 9.0}}\n"
     ]
    }
   ],
   "source": [
    "def yearPerformance(data_set, fund):\n",
    "    annual_performance = {}\n",
    "    date = data_set[\"Date\"]\n",
    "    year_list = []\n",
    "\n",
    "    for index, date in date.items():\n",
    "        year =date.split(\"-\")[0]\n",
    "        year_list.append(year)\n",
    "    \n",
    "    year_list = pd.Series(year_list)  \n",
    "\n",
    "    # find the start date and end date of each year\n",
    "    first_occurrences = year_list.drop_duplicates(keep='first')\n",
    "    last_occurrences = year_list.drop_duplicates(keep='last')\n",
    "\n",
    "    for i in range(len(first_occurrences)):\n",
    "        # find the corresponding row of data\n",
    "        date_data = data_set.iloc[first_occurrences.index[i]:last_occurrences.index[i] + 1, 1:5:3]\n",
    "        fund = 10000\n",
    "        scene2_value = scene2(date_data, fund)\n",
    "        scene3_value = scene3(date_data, fund)\n",
    "        year = year_list[first_occurrences.index[i]]\n",
    "\n",
    "        annual_performance[year] = {}\n",
    "\n",
    "        scene2_return_rate = (scene2_value - fund) / fund * 100\n",
    "        scene3_return_rate = (scene3_value - fund) / fund * 100\n",
    "\n",
    "        annual_performance[year][\"scene2\"] = scene2_return_rate.round(2)\n",
    "        annual_performance[year][\"scene3\"] = scene3_return_rate.round(2)\n",
    "\n",
    "    return annual_performance\n",
    "\n",
    "fund = 100000\n",
    "SPY_annual_performance =  yearPerformance(SPY_data,fund)\n",
    "QQQ_annual_performance = yearPerformance(QQQ_data, fund)\n",
    "print(SPY_annual_performance)\n",
    "print(QQQ_annual_performance)\n"
   ]
  }
 ],
 "metadata": {
  "kernelspec": {
   "display_name": "base",
   "language": "python",
   "name": "python3"
  },
  "language_info": {
   "codemirror_mode": {
    "name": "ipython",
    "version": 3
   },
   "file_extension": ".py",
   "mimetype": "text/x-python",
   "name": "python",
   "nbconvert_exporter": "python",
   "pygments_lexer": "ipython3",
   "version": "3.11.3"
  }
 },
 "nbformat": 4,
 "nbformat_minor": 2
}
