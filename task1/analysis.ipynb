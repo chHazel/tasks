{
 "cells": [
  {
   "cell_type": "code",
   "execution_count": 98,
   "metadata": {},
   "outputs": [],
   "source": [
    "import pandas as pd\n",
    "data = pd.read_csv(\"SPY.csv\")\n",
    "data_set = data.iloc[:,1:5:3]\n",
    "def scene1(data_set, found):\n",
    "    for row_index, row in data_set.iterrows():\n",
    "        open_price = row[\"Open\"]\n",
    "        close_price = row[\"Close\"] \n",
    "\n",
    "        found += (close_price - open_price) * (found // open_price)\n",
    "    return found\n"
   ]
  },
  {
   "cell_type": "code",
   "execution_count": 99,
   "metadata": {},
   "outputs": [],
   "source": [
    "def scene2(data_set, found):\n",
    "    for row_index, row in data_set.iterrows():\n",
    "        open_price = row[\"Open\"]\n",
    "        close_price = row[\"Close\"]\n",
    "\n",
    "        if row_index == 0:\n",
    "            quantity = found // close_price\n",
    "            found = found % close_price\n",
    "        elif row_index == len(data_set)-1: \n",
    "            found += open_price * quantity\n",
    "        else:\n",
    "            found += quantity * open_price\n",
    "            quantity = found // close_price\n",
    "            found = found % close_price\n",
    "    return found"
   ]
  },
  {
   "cell_type": "code",
   "execution_count": 100,
   "metadata": {},
   "outputs": [],
   "source": [
    "def scene3(data_set, found):\n",
    "    for row_index, row in data_set.iterrows():\n",
    "        open_price = row[\"Open\"]\n",
    "        close_price = row[\"Close\"]\n",
    "\n",
    "        if row_index == 0:\n",
    "            quantity = found // open_price\n",
    "            found = found % open_price\n",
    "        if row_index == len(data_set)-1:\n",
    "            found += quantity * close_price\n",
    "    return found"
   ]
  },
  {
   "cell_type": "code",
   "execution_count": 101,
   "metadata": {},
   "outputs": [
    {
     "name": "stdout",
     "output_type": "stream",
     "text": [
      "final value = 117488.31\n",
      "profit = 17488.31\n",
      "return rate = 17.49%\n",
      "\n",
      "final value = 991260.27\n",
      "profit = 891260.27\n",
      "return rate = 891.26%\n",
      "\n",
      "final value = 1166258.67\n",
      "profit = 1066258.67\n",
      "return rate = 1066.26%\n",
      "\n"
     ]
    }
   ],
   "source": [
    "def calculateProfit(found, value):\n",
    "    return_rate = (value - found) / found * 100\n",
    "    profit = value - found\n",
    "    print(\"final value = %.2f\" %value)\n",
    "    print(\"profit = %.2f\" %profit)\n",
    "    print(\"return rate = %.2f%%\\n\" %return_rate)\n",
    "    return return_rate\n",
    "\n",
    "found = 100000       \n",
    "value = scene1(data_set, found)\n",
    "return_rate = calculateProfit(found, value)\n",
    "\n",
    "found = 100000\n",
    "value = scene2(data_set, found)\n",
    "return_rate = calculateProfit(found, value)\n",
    "\n",
    "found = 100000\n",
    "value = scene3(data_set, found)\n",
    "return_rate = calculateProfit(found, value)\n"
   ]
  }
 ],
 "metadata": {
  "kernelspec": {
   "display_name": "base",
   "language": "python",
   "name": "python3"
  },
  "language_info": {
   "codemirror_mode": {
    "name": "ipython",
    "version": 3
   },
   "file_extension": ".py",
   "mimetype": "text/x-python",
   "name": "python",
   "nbconvert_exporter": "python",
   "pygments_lexer": "ipython3",
   "version": "3.11.3"
  }
 },
 "nbformat": 4,
 "nbformat_minor": 2
}
